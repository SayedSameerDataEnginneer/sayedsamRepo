{
 "cells": [
  {
   "cell_type": "markdown",
   "metadata": {
    "application/vnd.databricks.v1+cell": {
     "cellMetadata": {},
     "inputWidgets": {},
     "nuid": "227613f7-82b5-49d2-889f-9ff9b0918632",
     "showTitle": false,
     "tableResultSettingsMap": {},
     "title": ""
    }
   },
   "source": [
    "##Creating Database 'config' For storing tbl and control_tbl details"
   ]
  },
  {
   "cell_type": "code",
   "execution_count": 0,
   "metadata": {
    "application/vnd.databricks.v1+cell": {
     "cellMetadata": {
      "byteLimit": 2048000,
      "rowLimit": 10000
     },
     "inputWidgets": {},
     "nuid": "f3328f87-7d0f-4195-bfa8-56d0564ad1cd",
     "showTitle": false,
     "tableResultSettingsMap": {},
     "title": ""
    }
   },
   "outputs": [],
   "source": [
    "create database config"
   ]
  },
  {
   "cell_type": "markdown",
   "metadata": {
    "application/vnd.databricks.v1+cell": {
     "cellMetadata": {},
     "inputWidgets": {},
     "nuid": "e281ef8e-8e95-4a7c-bc54-26800aab94d2",
     "showTitle": false,
     "tableResultSettingsMap": {},
     "title": ""
    }
   },
   "source": [
    "###config.tbl_details"
   ]
  },
  {
   "cell_type": "code",
   "execution_count": 0,
   "metadata": {
    "application/vnd.databricks.v1+cell": {
     "cellMetadata": {
      "byteLimit": 2048000,
      "rowLimit": 10000
     },
     "inputWidgets": {},
     "nuid": "f323e3a2-763d-4316-9a2a-c0204b86178d",
     "showTitle": false,
     "tableResultSettingsMap": {},
     "title": ""
    }
   },
   "outputs": [],
   "source": [
    "\n",
    "CREATE TABLE workspace.config.tbl_details(\n",
    "    src_catalog_name STRING,\n",
    "    src_database_name STRING,\n",
    "    src_table_name STRING,\n",
    "    incremental_column_name STRING,\n",
    "    tgt_catalog_name STRING,\n",
    "    tgt_schema_name STRING,\n",
    "    tgt_tbl_name STRING,\n",
    "    tgt_inc_column STRING,\n",
    "    is_active BOOLEAN\n",
    ");\n",
    "\n",
    "INSERT INTO workspace.config.tbl_details (\n",
    "    src_catalog_name,\n",
    "    src_database_name,\n",
    "    src_table_name,\n",
    "    incremental_column_name,\n",
    "    tgt_catalog_name,\n",
    "    tgt_schema_name,\n",
    "    tgt_tbl_name,\n",
    "    tgt_inc_column,\n",
    "    is_active\n",
    ")\n",
    "VALUES (\n",
    "    'workspace',\n",
    "    'source',\n",
    "    'customer_details',\n",
    "    'last_updated',\n",
    "    'workspace',\n",
    "    'bronze',\n",
    "    'customer_details',\n",
    "    'last_updated',\n",
    "    true\n",
    ");\n",
    "\n",
    "INSERT INTO workspace.config.tbl_details (\n",
    "    src_catalog_name,\n",
    "    src_database_name,\n",
    "    src_table_name,\n",
    "    incremental_column_name,\n",
    "    tgt_catalog_name,\n",
    "    tgt_schema_name,\n",
    "    tgt_tbl_name,\n",
    "    tgt_inc_column,\n",
    "    is_active\n",
    ")\n",
    "VALUES (\n",
    "    'workspace',\n",
    "    'source',\n",
    "    'order_details',\n",
    "    'last_updated',\n",
    "    'workspace',\n",
    "    'bronze',\n",
    "    'order_details',\n",
    "    'last_updated',\n",
    "    true\n",
    ");\n",
    "\n"
   ]
  },
  {
   "cell_type": "markdown",
   "metadata": {
    "application/vnd.databricks.v1+cell": {
     "cellMetadata": {},
     "inputWidgets": {},
     "nuid": "29b3bab0-6ce5-44b8-b9a0-e64a0fe86a9d",
     "showTitle": false,
     "tableResultSettingsMap": {},
     "title": ""
    }
   },
   "source": [
    "###config.control_tbl details"
   ]
  },
  {
   "cell_type": "code",
   "execution_count": 0,
   "metadata": {
    "application/vnd.databricks.v1+cell": {
     "cellMetadata": {
      "byteLimit": 2048000,
      "rowLimit": 10000
     },
     "inputWidgets": {},
     "nuid": "b17c3a1a-48c6-48fc-a9e9-84a688f3a238",
     "showTitle": false,
     "tableResultSettingsMap": {},
     "title": ""
    }
   },
   "outputs": [],
   "source": [
    "\n",
    "CREATE TABLE workspace.config.control_tbl (\n",
    "    tbl_name STRING,\n",
    "    status STRING,\n",
    "    update_date DATE\n",
    ");\n",
    "\n",
    "insert into workspace.config.control_tbl values('workspace.source.order_details','unknown', to_date('01-01-1900', 'dd-MM-yyyy'));\n",
    "insert into workspace.config.control_tbl values('workspace.source.customer_details','unknown', to_date('01-01-1900', 'dd-MM-yyyy'));"
   ]
  },
  {
   "cell_type": "code",
   "execution_count": 0,
   "metadata": {
    "application/vnd.databricks.v1+cell": {
     "cellMetadata": {},
     "inputWidgets": {},
     "nuid": "49d4f5b7-aec9-4122-9dec-8cfd2f98598d",
     "showTitle": false,
     "tableResultSettingsMap": {},
     "title": ""
    }
   },
   "outputs": [],
   "source": [
    "create database source"
   ]
  },
  {
   "cell_type": "markdown",
   "metadata": {
    "application/vnd.databricks.v1+cell": {
     "cellMetadata": {},
     "inputWidgets": {},
     "nuid": "bdb22d09-48cd-40b5-902d-b2e51cee4008",
     "showTitle": false,
     "tableResultSettingsMap": {},
     "title": ""
    }
   },
   "source": [
    "###Creating source.order_details tbl"
   ]
  },
  {
   "cell_type": "code",
   "execution_count": 0,
   "metadata": {
    "application/vnd.databricks.v1+cell": {
     "cellMetadata": {},
     "inputWidgets": {},
     "nuid": "4d89c380-47d1-48fb-8e69-503206b4e88d",
     "showTitle": false,
     "tableResultSettingsMap": {},
     "title": ""
    }
   },
   "outputs": [],
   "source": [
    "\n",
    "CREATE TABLE workspace.source.order_details(\n",
    "    order_id INT,\n",
    "    customer_id INT,\n",
    "    order_date DATE,\n",
    "    status STRING\n",
    ");\n",
    "\n",
    "INSERT INTO workspace.source.order_details VALUES\n",
    "(1, 101, '2023-01-10', 'Shipped'),\n",
    "(2, 102, '2023-01-12', 'Returned'),\n",
    "(3, 103, '2023-01-15', 'Delivered'),\n",
    "(4, 104, '2023-01-18', 'Processing'),\n",
    "(1, 105, '2023-01-19', 'Shipped');\n"
   ]
  },
  {
   "cell_type": "markdown",
   "metadata": {
    "application/vnd.databricks.v1+cell": {
     "cellMetadata": {},
     "inputWidgets": {},
     "nuid": "cf677768-13ee-4a1e-94b2-257186335362",
     "showTitle": false,
     "tableResultSettingsMap": {},
     "title": ""
    }
   },
   "source": [
    "###Creating source.customer_details table"
   ]
  },
  {
   "cell_type": "code",
   "execution_count": 0,
   "metadata": {
    "application/vnd.databricks.v1+cell": {
     "cellMetadata": {},
     "inputWidgets": {},
     "nuid": "ebb7d3b7-32ca-4db8-a453-66d75c84b581",
     "showTitle": false,
     "tableResultSettingsMap": {},
     "title": ""
    }
   },
   "outputs": [],
   "source": [
    "CREATE or replace TABLE workspace.source.customer_details (\n",
    "    customer_id INT,\n",
    "    customer_name STRING,\n",
    "    email STRING,\n",
    "    phone STRING,\n",
    "    address STRING,\n",
    "    last_updated DATE\n",
    ");\n",
    "INSERT INTO workspace.source.customer_details VALUES\n",
    "(101, 'Amit Sharma', 'amit.sharma@example.com', '9876543210', 'Mumbai', DATE('2023-01-10')),\n",
    "(102, 'Priya Verma', 'priya.verma@example.com', '9876543211', 'Delhi', DATE('2023-01-12')),\n",
    "(103, 'Rahul Mehta', 'rahul.mehta@example.com', '9876543212', 'Bangalore', DATE('2023-01-15')),\n",
    "(104, 'Sneha Rao', 'sneha.rao@example.com', '9876543213', 'Hyderabad', DATE('2023-01-18'));\n"
   ]
  },
  {
   "cell_type": "markdown",
   "metadata": {
    "application/vnd.databricks.v1+cell": {
     "cellMetadata": {},
     "inputWidgets": {},
     "nuid": "63f70b6a-3041-4dd3-beee-1b3fb31e3a4b",
     "showTitle": false,
     "tableResultSettingsMap": {},
     "title": ""
    }
   },
   "source": [
    "###Creating bronze.order_details table"
   ]
  },
  {
   "cell_type": "code",
   "execution_count": 0,
   "metadata": {
    "application/vnd.databricks.v1+cell": {
     "cellMetadata": {
      "byteLimit": 2048000,
      "rowLimit": 10000
     },
     "inputWidgets": {},
     "nuid": "1e1cdb7d-b2aa-443a-9c94-8ec9ef5ac3c9",
     "showTitle": false,
     "tableResultSettingsMap": {},
     "title": ""
    }
   },
   "outputs": [],
   "source": [
    "CREATE TABLE workspace.bronze.order_details(\n",
    "    order_id INT,\n",
    "    customer_id INT,\n",
    "    order_date DATE,\n",
    "    status STRING,\n",
    "    ingestion_timestamp DATE\n",
    ");"
   ]
  },
  {
   "cell_type": "markdown",
   "metadata": {
    "application/vnd.databricks.v1+cell": {
     "cellMetadata": {},
     "inputWidgets": {},
     "nuid": "689b83bb-67dc-48da-8e56-02eb603c6f4b",
     "showTitle": false,
     "tableResultSettingsMap": {},
     "title": ""
    }
   },
   "source": [
    "###Creating bronze.customer_details table"
   ]
  },
  {
   "cell_type": "code",
   "execution_count": 0,
   "metadata": {
    "application/vnd.databricks.v1+cell": {
     "cellMetadata": {
      "byteLimit": 2048000,
      "rowLimit": 10000
     },
     "inputWidgets": {},
     "nuid": "62a5593f-1a54-4a34-8ac5-de7a2ae61e56",
     "showTitle": false,
     "tableResultSettingsMap": {},
     "title": ""
    }
   },
   "outputs": [],
   "source": [
    "CREATE or replace TABLE workspace.bronze.customer_details (\n",
    "    customer_id INT,\n",
    "    customer_name STRING,\n",
    "    email STRING,\n",
    "    phone STRING,\n",
    "    address STRING,\n",
    "    last_updated DATE,\n",
    "    ingestion_timestamp DATE\n",
    ");"
   ]
  },
  {
   "cell_type": "markdown",
   "metadata": {
    "application/vnd.databricks.v1+cell": {
     "cellMetadata": {},
     "inputWidgets": {},
     "nuid": "b5bd643d-b306-4b8a-b678-afe0ae0955a4",
     "showTitle": false,
     "tableResultSettingsMap": {},
     "title": ""
    }
   },
   "source": [
    "##Will add\n"
   ]
  }
 ],
 "metadata": {
  "application/vnd.databricks.v1+notebook": {
   "computePreferences": null,
   "dashboards": [],
   "environmentMetadata": {
    "base_environment": "",
    "environment_version": "2"
   },
   "inputWidgetPreferences": null,
   "language": "sql",
   "notebookMetadata": {
    "mostRecentlyExecutedCommandWithImplicitDF": {
     "commandId": -1,
     "dataframes": [
      "_sqldf"
     ]
    },
    "pythonIndentUnit": 4
   },
   "notebookName": "source_tables",
   "widgets": {}
  },
  "language_info": {
   "name": "sql"
  }
 },
 "nbformat": 4,
 "nbformat_minor": 0
}
